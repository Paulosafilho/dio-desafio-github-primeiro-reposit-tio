{
  "nbformat": 4,
  "nbformat_minor": 0,
  "metadata": {
    "colab": {
      "name": "ProjetoIntegradorII.ipynb",
      "provenance": [],
      "include_colab_link": true
    },
    "kernelspec": {
      "name": "python3",
      "display_name": "Python 3"
    },
    "language_info": {
      "name": "python"
    }
  },
  "cells": [
    {
      "cell_type": "markdown",
      "metadata": {
        "id": "view-in-github",
        "colab_type": "text"
      },
      "source": [
        "<a href=\"https://colab.research.google.com/github/Paulosafilho/dio-desafio-github-primeiro-repositorio/blob/main/ProjetoIntegradorII.ipynb\" target=\"_parent\"><img src=\"https://colab.research.google.com/assets/colab-badge.svg\" alt=\"Open In Colab\"/></a>"
      ]
    },
    {
      "cell_type": "markdown",
      "source": [
        "#### PROJETO INTEGRADOR II\n",
        "\n",
        "*   Faça uma cópia deste arquivo no seu drive. \n",
        "*   A partir dele construa o que se pede nos comentários.\n",
        "*   Use como base os conteúdos das aulas e o material de leitura.\n",
        "*   Não esqueça de deixar seu arquivo com permissões de público.\n",
        "*   Clique em compartilhar e anexe o link do seu trabalho na plataforma.\n",
        "\n",
        "Bom trabalho!\n"
      ],
      "metadata": {
        "id": "tcmRkUDmuGAs"
      }
    },
    {
      "cell_type": "markdown",
      "source": [
        "#### PROBLEMÁTICA\n",
        "\n",
        "\n",
        "Uma empresa brasileira de trilhas contratou você para descobrir através de uma planilha de excel e por meio de um gráfico qual a maior Latitude da Região Nordestina para o Estado de Alagoas afim de otimizar suas trilhas. \n",
        "Além de auxiliar na localização dos pontos terrestres, as longitudes servem de referencial para os fusos horários da Terra.\n",
        "\n",
        "No painel de instruções estão as perguntas que você precisará responder para concluir este projeto.\n",
        "\n",
        "Antes de mergulhar em nossa análise, porém, vamos nos familiarizar com o conjunto de dados que o ajudarão neste projeto:\n",
        "\n",
        "Baixe no seu computador os dados através do link em formato csv, carregue os dados no seu Google Colab. \n",
        "- dataUMJ.csv\n",
        "\n",
        "https://docs.google.com/spreadsheets/d/19buxMlfWwIPZIsdZYAb_KIaUGJNBCa3gzpRNECsgVLs/edit?usp=sharing\n",
        "\n",
        "Daqui em diante, será sua tarefa explorar e manipular os dados existentes até conseguir responder às perguntas descritas no painel de instruções. \n",
        "Sinta-se à vontade para adicionar quantas células forem necessárias. Por fim, lembre-se de que você é testado apenas em sua resposta, não nos métodos que usa para chegar à resposta!\n",
        "\n",
        "#### Algumas habilidades trabalhadas: \n",
        "- Lendo arquivos CSV com Python. \n",
        "- Criando e atribuindo valores a Variáveis.\n",
        "- Filtrando Variáveis com base em parâmetros condicionais. \n",
        "- Agrupando dados por valores de coluna e agregando-os."
      ],
      "metadata": {
        "id": "QX9D2GwPvNDr"
      }
    },
    {
      "cell_type": "code",
      "source": [
        "# Importe os dados do seu computador para o Colab\n",
        "\n"
      ],
      "metadata": {
        "id": "oHaorhU33F07"
      },
      "execution_count": null,
      "outputs": []
    },
    {
      "cell_type": "code",
      "source": [
        "# Importe a biblioteca pandas\n",
        "\n",
        "\n",
        "# Atribua os dados a variável data e vizualise os dados\n",
        "\n"
      ],
      "metadata": {
        "id": "LK5xGlAE6pc6"
      },
      "execution_count": null,
      "outputs": []
    },
    {
      "cell_type": "code",
      "source": [
        "# Obtenha informações sobre os dados\n",
        "\n"
      ],
      "metadata": {
        "id": "U_18Z04D3F-D"
      },
      "execution_count": null,
      "outputs": []
    },
    {
      "cell_type": "code",
      "source": [
        "# Selecione apenas uma coluna \n",
        "\n"
      ],
      "metadata": {
        "id": "Fm8GAxQs_LDO"
      },
      "execution_count": null,
      "outputs": []
    },
    {
      "cell_type": "code",
      "source": [
        "# Usando condicional selecione a Regiao Nordeste e Estado de Alagoas com Latitude maior ou igual a -7469\n",
        "\n"
      ],
      "metadata": {
        "id": "-gjUgfTpFZaz"
      },
      "execution_count": null,
      "outputs": []
    },
    {
      "cell_type": "code",
      "source": [
        "# Qual a média de Latitude e Longitude para essa região?\n",
        "\n"
      ],
      "metadata": {
        "id": "pRrADuQ7IpFh"
      },
      "execution_count": null,
      "outputs": []
    },
    {
      "cell_type": "markdown",
      "source": [
        "### Histograma\n",
        "\n",
        "Se você tem um grande conjunto de dados numéricos representando uma variável, tal como idade, peso ou altura, por exemplo, fica muito difícil extrair algum tipo de informação relevante olhando apenas para a tabela ou lista de números é para isso que usamos gráficos. "
      ],
      "metadata": {
        "id": "u1sNcUdwtjtt"
      }
    },
    {
      "cell_type": "code",
      "source": [
        "# Crie uma variável e atribua ao seu novo conjunto de dados com as condicionais (Nordeste, Alagoas, Latitude >= -7469) \n",
        "\n"
      ],
      "metadata": {
        "id": "6bXC74dsTKaX"
      },
      "execution_count": null,
      "outputs": []
    },
    {
      "cell_type": "code",
      "source": [
        "# Faça um gráfico e descubra qual a maior Latitude da Região Nordestina para o Estado de Alagoas\n",
        "\n"
      ],
      "metadata": {
        "id": "GMNvFD8gI5Lx"
      },
      "execution_count": null,
      "outputs": []
    },
    {
      "cell_type": "markdown",
      "source": [
        "Bom trabalho!\n",
        "\n",
        "\"Quem sabe concentrar-se numa coisa e insistir nela como único objetivo, obtém a capacidade de fazer qualquer coisa.\"\n",
        "\n",
        "*Mahatma Gandhi*"
      ],
      "metadata": {
        "id": "VZKIvUcJNrwD"
      }
    }
  ]
}